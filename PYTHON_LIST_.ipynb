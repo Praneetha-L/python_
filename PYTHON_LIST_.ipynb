{
  "nbformat": 4,
  "nbformat_minor": 0,
  "metadata": {
    "colab": {
      "provenance": [],
      "gpuType": "T4",
      "authorship_tag": "ABX9TyPQ0lU8Vjlb+4Q8nj4LD+Ox",
      "include_colab_link": true
    },
    "kernelspec": {
      "name": "python3",
      "display_name": "Python 3"
    },
    "language_info": {
      "name": "python"
    },
    "accelerator": "GPU"
  },
  "cells": [
    {
      "cell_type": "markdown",
      "metadata": {
        "id": "view-in-github",
        "colab_type": "text"
      },
      "source": [
        "<a href=\"https://colab.research.google.com/github/Praneetha-L/python_/blob/main/PYTHON_LIST_.ipynb\" target=\"_parent\"><img src=\"https://colab.research.google.com/assets/colab-badge.svg\" alt=\"Open In Colab\"/></a>"
      ]
    },
    {
      "cell_type": "code",
      "execution_count": null,
      "metadata": {
        "id": "t6nEZhu01ecq"
      },
      "outputs": [],
      "source": []
    },
    {
      "cell_type": "markdown",
      "source": [
        "PYTHON DATATYPE ADVANCE DATATYPE\n",
        "    \n",
        "  1. **LIST**  \n",
        "    list is collection of all items( items represent basic datatypes).\n",
        "    \n",
        "    lists are mutable that can be replace or modify or remove.\n",
        "   \n",
        "    list represents in [ ], each item in list can be separated by comma(,).\n",
        "    \n",
        "    list contains duplicate values .\n",
        "  \n",
        "  \n",
        "   for examples:\n",
        "    \n",
        "  a =[ 1,2,3]  ----> here list items are  same datatype(int)\n",
        "  \n",
        "   b = [1.3,3.4,4.5,5.6] -----> here list items are same datatype(float)\n",
        "  \n",
        "   c= [\"map\",\"gobal\",\"place\"]----> list items are same datatype(string)\n",
        "\n",
        " d = [1, 2.4 ,\"place\",5+8j,true] -----> list items are mixed basic data type"
      ],
      "metadata": {
        "id": "xLBNyYrQ2KbG"
      }
    },
    {
      "cell_type": "code",
      "source": [
        "a= [1,2,3]\n",
        "print(a)\n",
        "print(type(a))\n",
        "B= [9,5.6,\"SURYA\",True,7+8j]\n",
        "print(B)\n",
        "print(type(B))\n"
      ],
      "metadata": {
        "id": "66Y87gqS6r4x",
        "colab": {
          "base_uri": "https://localhost:8080/"
        },
        "outputId": "71c64c7c-5906-47eb-d0f8-7f7007b2ecf0"
      },
      "execution_count": null,
      "outputs": [
        {
          "output_type": "stream",
          "name": "stdout",
          "text": [
            "[1, 2, 3]\n",
            "<class 'list'>\n",
            "[9, 5.6, 'SURYA', True, (7+8j)]\n",
            "<class 'list'>\n"
          ]
        }
      ]
    },
    {
      "cell_type": "markdown",
      "source": [
        "**ACCESS LIST  **\n",
        "  \n",
        "  In python we can access list by using index.\n",
        "  \n",
        "  positve index and negative index are two types index but by default python allow positive index and negative index can be allow mannually .\n",
        "\n",
        "  postive index start from 0 and so on\n",
        "  \n",
        "  negative index starts from -1 and so on\n",
        "\n",
        "\n"
      ],
      "metadata": {
        "id": "97sn4iG_nY5b"
      }
    },
    {
      "cell_type": "code",
      "source": [
        "#1\n",
        "d = [1,4,5,7,9,3]\n",
        "print(d[0])\n",
        "print(d[2])\n",
        "print(d[3])\n",
        "print(d[-1])\n",
        "print(d[-3])\n",
        "#2\n",
        "s = [\"apple\",\"kiwi\",\"mango\"]\n",
        "print(s[0])\n",
        "print(s[1])\n",
        "print(s[-3])\n",
        "#3\n",
        "c= [ 2.3,4.4,5.5,6.5,7.5]\n",
        "print(c[1])\n",
        "print(c[4])\n",
        "print(c[-4])\n",
        "print(c[-5])\n",
        "#4\n",
        "f= [2, 3.4, 5+6j, \"pen\", True]\n",
        "print(f[0])\n",
        "print(f[4])\n",
        "print(f[-1])\n",
        "print(f[-5])\n",
        "\n"
      ],
      "metadata": {
        "colab": {
          "base_uri": "https://localhost:8080/"
        },
        "id": "1McR6eq7pqPM",
        "outputId": "7f6316c9-d535-428e-df05-bc7b3d35d566"
      },
      "execution_count": null,
      "outputs": [
        {
          "output_type": "stream",
          "name": "stdout",
          "text": [
            "1\n",
            "5\n",
            "7\n",
            "3\n",
            "7\n",
            "apple\n",
            "kiwi\n",
            "apple\n",
            "4.4\n",
            "7.5\n",
            "4.4\n",
            "2.3\n",
            "2\n",
            "True\n",
            "True\n",
            "2\n"
          ]
        }
      ]
    },
    {
      "cell_type": "markdown",
      "source": [
        "**Accessing list by using slicing **\n",
        "  \n",
        "  slicing allow us to access a range of items from a list by using slicing operator [:] .\n",
        "\n",
        "  we specify starting index and ending index [ n: n-1]\n"
      ],
      "metadata": {
        "id": "PFora5sRtyKZ"
      }
    },
    {
      "cell_type": "code",
      "source": [
        "#5\n",
        "h = [ 1,3,5,7,9,11,13,15,17]\n",
        "print(h[2:7])\n",
        "#6\n",
        "d= [2.3,4.5,5.6,7.8,9.1]\n",
        "print(d[2:])\n",
        "#7\n",
        "f= [\"apple\",\"kiwi\",\"mango\",\"orange\",\"place\",\"water\",\"name\"]\n",
        "print(f[:5])\n",
        "#8\n",
        "v= [2, 4.6, \"earphones\",True,False, 5+9j,7j]\n",
        "print(v[-4:-1])\n",
        "#9\n",
        "b= [1,2,3,4,5,7,8,9,6]\n",
        "print(b[:-2])\n",
        "#10\n",
        "print(b[-6:])"
      ],
      "metadata": {
        "colab": {
          "base_uri": "https://localhost:8080/"
        },
        "id": "1mPJlP6QvIOb",
        "outputId": "a47d18f7-1357-4eb6-ef2f-991ef42b7652"
      },
      "execution_count": null,
      "outputs": [
        {
          "output_type": "stream",
          "name": "stdout",
          "text": [
            "[5, 7, 9, 11, 13]\n",
            "[5.6, 7.8, 9.1]\n",
            "['apple', 'kiwi', 'mango', 'orange', 'place']\n",
            "[True, False, (5+9j)]\n",
            "[1, 2, 3, 4, 5, 7, 8]\n",
            "[4, 5, 7, 8, 9, 6]\n"
          ]
        }
      ]
    },
    {
      "cell_type": "markdown",
      "source": [
        "CONCATENATION is adding two list .we can concatenate two lists by + operator\n",
        "\n",
        "we  can concatenate list by extend() function\n",
        "\n",
        "REPEATATION In python we need to duplicate the items so by using * operator we can repeate the litems in list.\n",
        "\n",
        "we can repeate entire list or items in the list in several times.\n",
        "\n",
        "below examples are for bboth concatenation and repeatation"
      ],
      "metadata": {
        "id": "1gu1k_xtxuI8"
      }
    },
    {
      "cell_type": "code",
      "source": [
        "#1\n",
        "a= [1,4,6]\n",
        "b= [3,5,7]\n",
        "print(a+b) # output of  concatenation\n",
        "a = a*3 #  1. repeatation\n",
        "print(a)\n",
        "b = b*4  # 2. repeatation\n",
        "print(b)\n",
        "#2\n",
        "a= [ \"place\",\"chair\",\"door\"]\n",
        "g = [\"book\",\"pen\",\"watch\"]\n",
        "print(a+g)  # output of concatenation\n",
        "a = a*5    # 3. repeatation\n",
        "print(a)\n",
        "g = g*4    #  4. repeatation\n",
        "print(g)\n",
        "#3\n",
        "d = [ 2.3, 4.4,5.7, 7.8, 9.7]\n",
        "v = [ 4.5, 5.6,6.7, 7.0 ]\n",
        "print(d+v) # concatenation\n",
        "d = d*2    # 5. repeatation\n",
        "print(d)\n",
        "v = v*5   # 6. repeatation\n",
        "print(v)\n",
        "#4\n",
        "j = [3+8j, 7+9j,3+9j]\n",
        "n = [ 7j, 4+6j, 6+9j]\n",
        "print(j+n)    # output of  concatenation\n",
        "j = j*2\n",
        "print(j)  # 7. repeatation\n",
        "n = n*2   # 8. repeatation\n",
        "print(n)\n"
      ],
      "metadata": {
        "colab": {
          "base_uri": "https://localhost:8080/"
        },
        "id": "8Yl4mPIyzXh2",
        "outputId": "a4620edd-0d03-4800-bcbd-43ec191414c9"
      },
      "execution_count": null,
      "outputs": [
        {
          "output_type": "stream",
          "name": "stdout",
          "text": [
            "[1, 4, 6, 3, 5, 7]\n",
            "[1, 4, 6, 1, 4, 6, 1, 4, 6]\n",
            "[3, 5, 7, 3, 5, 7, 3, 5, 7, 3, 5, 7]\n",
            "['place', 'chair', 'door', 'book', 'pen', 'watch']\n",
            "['place', 'chair', 'door', 'place', 'chair', 'door', 'place', 'chair', 'door', 'place', 'chair', 'door', 'place', 'chair', 'door']\n",
            "['book', 'pen', 'watch', 'book', 'pen', 'watch', 'book', 'pen', 'watch', 'book', 'pen', 'watch']\n",
            "[2.3, 4.4, 5.7, 7.8, 9.7, 4.5, 5.6, 6.7, 7.0]\n",
            "[2.3, 4.4, 5.7, 7.8, 9.7, 2.3, 4.4, 5.7, 7.8, 9.7]\n",
            "[4.5, 5.6, 6.7, 7.0, 4.5, 5.6, 6.7, 7.0, 4.5, 5.6, 6.7, 7.0, 4.5, 5.6, 6.7, 7.0, 4.5, 5.6, 6.7, 7.0]\n",
            "[(3+8j), (7+9j), (3+9j), 7j, (4+6j), (6+9j)]\n",
            "[(3+8j), (7+9j), (3+9j), (3+8j), (7+9j), (3+9j)]\n",
            "[7j, (4+6j), (6+9j), 7j, (4+6j), (6+9j)]\n"
          ]
        }
      ]
    },
    {
      "cell_type": "markdown",
      "source": [],
      "metadata": {
        "id": "o4OcLZxjpKvX"
      }
    },
    {
      "cell_type": "markdown",
      "source": [
        "LIST METHODS\n",
        "  1. append() : Add any elemnt at the end of list and it  will add only single item in list\n",
        "   \n",
        "   \n",
        "   syntax : list_name.appened(item to be added)"
      ],
      "metadata": {
        "id": "XBvek8hgpMT4"
      }
    },
    {
      "cell_type": "code",
      "source": [
        "#example\n",
        "a = [ 1,3,5,7,9,11]\n",
        "a.append(13)\n",
        "print(a)"
      ],
      "metadata": {
        "colab": {
          "base_uri": "https://localhost:8080/"
        },
        "id": "QLMyPyiSppn4",
        "outputId": "e190adef-49d0-4030-a513-1424b8ba11f5"
      },
      "execution_count": 10,
      "outputs": [
        {
          "output_type": "stream",
          "name": "stdout",
          "text": [
            "[1, 3, 5, 7, 9, 11, 13]\n"
          ]
        }
      ]
    },
    {
      "cell_type": "markdown",
      "source": [
        "2. extend():  add items of lists to current list\n",
        " syntax: a.extend(b)\n",
        ""
      ],
      "metadata": {
        "id": "vDGh26ygqrkt"
      }
    },
    {
      "cell_type": "code",
      "source": [
        "#example\n",
        "a = [\"apple\", \"orange\",\" mango\"]\n",
        "b = [\"banana\",\"kiwi\"]\n",
        "a.extend(b)\n",
        "b.extend(a)\n",
        "print(a)\n",
        "print(b)"
      ],
      "metadata": {
        "colab": {
          "base_uri": "https://localhost:8080/"
        },
        "id": "Uq15UicDrWef",
        "outputId": "8a58edfc-2fbb-49f4-98e3-040b2cb2851d"
      },
      "execution_count": 12,
      "outputs": [
        {
          "output_type": "stream",
          "name": "stdout",
          "text": [
            "['apple', 'orange', ' mango', 'banana', 'kiwi']\n",
            "['banana', 'kiwi', 'apple', 'orange', ' mango', 'banana', 'kiwi']\n"
          ]
        }
      ]
    },
    {
      "cell_type": "markdown",
      "source": [
        "3. pop(): remove any item of specified position in list\n",
        "\n",
        " syntax: a.pop()\n"
      ],
      "metadata": {
        "id": "NOZn3eIxsgOo"
      }
    },
    {
      "cell_type": "code",
      "source": [
        "#example\n",
        "a = [1,2,3,4,5,6,7]\n",
        "a.pop() #----> here index value is not given so it remove last item of list\n",
        "\n",
        "print(a)\n",
        "b = [1,2,3,4,5,6,7]\n",
        "b.pop(3) #-------> here index valu is given so it remove position of index vale item in list\n",
        "print(b)"
      ],
      "metadata": {
        "colab": {
          "base_uri": "https://localhost:8080/"
        },
        "id": "0MwHvQU5s2f7",
        "outputId": "a47f4d01-1310-41df-c381-2b7afd0ff5fe"
      },
      "execution_count": 15,
      "outputs": [
        {
          "output_type": "stream",
          "name": "stdout",
          "text": [
            "[1, 2, 3, 4, 5, 6]\n",
            "[1, 2, 3, 5, 6, 7]\n"
          ]
        }
      ]
    },
    {
      "cell_type": "markdown",
      "source": [
        "4. remove() : remove the first occurence of items with specified value.if the item we have remove is not existing in list o/p is value error\n",
        "    \n",
        "    \n",
        "  syntax : a.remove(obj) -----> a = list , obj = item to removed"
      ],
      "metadata": {
        "id": "75udg0fOtmUE"
      }
    },
    {
      "cell_type": "code",
      "source": [
        "#example\n",
        "a = [1,2,3,44,5,6,8,9,10]\n",
        "a.remove(44)\n",
        "print(a)\n",
        "a.remove(11)\n",
        "print(a)"
      ],
      "metadata": {
        "colab": {
          "base_uri": "https://localhost:8080/",
          "height": 219
        },
        "id": "JRQOQe8Du4h5",
        "outputId": "e13af66c-b58f-4260-bc53-7b3b3114fd29"
      },
      "execution_count": 29,
      "outputs": [
        {
          "output_type": "stream",
          "name": "stdout",
          "text": [
            "[1, 2, 3, 5, 6, 8, 9, 10]\n"
          ]
        },
        {
          "output_type": "error",
          "ename": "ValueError",
          "evalue": "list.remove(x): x not in list",
          "traceback": [
            "\u001b[0;31m---------------------------------------------------------------------------\u001b[0m",
            "\u001b[0;31mValueError\u001b[0m                                Traceback (most recent call last)",
            "\u001b[0;32m<ipython-input-29-2fe1353f2a54>\u001b[0m in \u001b[0;36m<cell line: 0>\u001b[0;34m()\u001b[0m\n\u001b[1;32m      3\u001b[0m \u001b[0ma\u001b[0m\u001b[0;34m.\u001b[0m\u001b[0mremove\u001b[0m\u001b[0;34m(\u001b[0m\u001b[0;36m44\u001b[0m\u001b[0;34m)\u001b[0m\u001b[0;34m\u001b[0m\u001b[0;34m\u001b[0m\u001b[0m\n\u001b[1;32m      4\u001b[0m \u001b[0mprint\u001b[0m\u001b[0;34m(\u001b[0m\u001b[0ma\u001b[0m\u001b[0;34m)\u001b[0m\u001b[0;34m\u001b[0m\u001b[0;34m\u001b[0m\u001b[0m\n\u001b[0;32m----> 5\u001b[0;31m \u001b[0ma\u001b[0m\u001b[0;34m.\u001b[0m\u001b[0mremove\u001b[0m\u001b[0;34m(\u001b[0m\u001b[0;36m11\u001b[0m\u001b[0;34m)\u001b[0m\u001b[0;34m\u001b[0m\u001b[0;34m\u001b[0m\u001b[0m\n\u001b[0m\u001b[1;32m      6\u001b[0m \u001b[0mprint\u001b[0m\u001b[0;34m(\u001b[0m\u001b[0ma\u001b[0m\u001b[0;34m)\u001b[0m\u001b[0;34m\u001b[0m\u001b[0;34m\u001b[0m\u001b[0m\n",
            "\u001b[0;31mValueError\u001b[0m: list.remove(x): x not in list"
          ]
        }
      ]
    },
    {
      "cell_type": "markdown",
      "source": [
        "5. count() : This method is used find frequency of items in the list\n",
        "\n",
        " syntax :  y.count(item)"
      ],
      "metadata": {
        "id": "wuEGk60ovNrY"
      }
    },
    {
      "cell_type": "code",
      "source": [
        "#example\n",
        "a =[1,2,3,4,5,1,2,7,1,2]\n",
        "a.count(2)"
      ],
      "metadata": {
        "colab": {
          "base_uri": "https://localhost:8080/"
        },
        "id": "--4UPR7PwNau",
        "outputId": "5fd3cd5f-45b2-48ad-928e-6097aa41ba9e"
      },
      "execution_count": 19,
      "outputs": [
        {
          "output_type": "execute_result",
          "data": {
            "text/plain": [
              "3"
            ]
          },
          "metadata": {},
          "execution_count": 19
        }
      ]
    },
    {
      "cell_type": "markdown",
      "source": [
        "6. insert(): add item at any position of list\n",
        "   \n",
        "   syntax : a.insert(indexvalue, item to added)\n"
      ],
      "metadata": {
        "id": "TC-SfDTAwXOL"
      }
    },
    {
      "cell_type": "code",
      "source": [
        "#example\n",
        "a = [2,6,8,10,12]\n",
        "a.insert(2,4)\n",
        "print(a)\n"
      ],
      "metadata": {
        "colab": {
          "base_uri": "https://localhost:8080/"
        },
        "id": "4l8HEXbBytaW",
        "outputId": "81dcd416-2e70-4425-ede2-da34740482c0"
      },
      "execution_count": 20,
      "outputs": [
        {
          "output_type": "stream",
          "name": "stdout",
          "text": [
            "[2, 6, 4, 8, 10, 12]\n"
          ]
        }
      ]
    },
    {
      "cell_type": "markdown",
      "source": [
        "7. index() : returns indexvalue of first occurrence of item in the list\n",
        "\n",
        "  syntax : c.index()\n",
        "  "
      ],
      "metadata": {
        "id": "MW8lOhoEzAR5"
      }
    },
    {
      "cell_type": "code",
      "source": [
        "#example\n",
        "\n",
        "c = [1,3,5,7,9,11,13]\n",
        "c.index(9)"
      ],
      "metadata": {
        "colab": {
          "base_uri": "https://localhost:8080/"
        },
        "id": "YuRexRe50OHx",
        "outputId": "70556b29-754a-4440-903c-f5c847c1562a"
      },
      "execution_count": 25,
      "outputs": [
        {
          "output_type": "execute_result",
          "data": {
            "text/plain": [
              "4"
            ]
          },
          "metadata": {},
          "execution_count": 25
        }
      ]
    },
    {
      "cell_type": "code",
      "source": [
        "d = [1,2,3,4,5,3,5,7,3,6,8,9,3]\n",
        "d.index(3)"
      ],
      "metadata": {
        "colab": {
          "base_uri": "https://localhost:8080/"
        },
        "id": "ejVS7mbI0p4T",
        "outputId": "95da4be0-40cb-4b0e-87d7-bf770c317082"
      },
      "execution_count": 27,
      "outputs": [
        {
          "output_type": "execute_result",
          "data": {
            "text/plain": [
              "2"
            ]
          },
          "metadata": {},
          "execution_count": 27
        }
      ]
    }
  ]
}