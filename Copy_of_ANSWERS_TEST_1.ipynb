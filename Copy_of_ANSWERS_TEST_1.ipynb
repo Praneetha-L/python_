{
  "nbformat": 4,
  "nbformat_minor": 0,
  "metadata": {
    "colab": {
      "provenance": [],
      "authorship_tag": "ABX9TyPYvByCyKhCWRXykUdZar1a",
      "include_colab_link": true
    },
    "kernelspec": {
      "name": "python3",
      "display_name": "Python 3"
    },
    "language_info": {
      "name": "python"
    }
  },
  "cells": [
    {
      "cell_type": "markdown",
      "metadata": {
        "id": "view-in-github",
        "colab_type": "text"
      },
      "source": [
        "<a href=\"https://colab.research.google.com/github/Praneetha-L/python_/blob/main/Copy_of_ANSWERS_TEST_1.ipynb\" target=\"_parent\"><img src=\"https://colab.research.google.com/assets/colab-badge.svg\" alt=\"Open In Colab\"/></a>"
      ]
    },
    {
      "cell_type": "markdown",
      "source": [
        " 1 . COMMENTS : comments are used to understand the program by any user what operations is performed  \n",
        " single line comment :#example of single line\n",
        "mutli - line comment:           \n",
        "2. keywords are bulit in functions\n",
        "    else, if, for, pass, break ,in, is ,while, and,await,execpt,araise\n",
        "3.no we cannot use keywords as variable it shows error\n",
        "4. is used to check items are in  lists or string it show true if memeory location of string is same if not false even items in string is same and it is case sensitive\n",
        "   \n",
        "   == used to check items are in list or string if item present it will show true otherwise false"
      ],
      "metadata": {
        "id": "X7ThYkJb4J3j"
      }
    },
    {
      "cell_type": "code",
      "source": [
        "#example of (== operation ) ----> single line comment\n",
        "a = [1,2,3]\n",
        "b =[1,2,3]\n",
        "a == b"
      ],
      "metadata": {
        "colab": {
          "base_uri": "https://localhost:8080/"
        },
        "id": "E8_nWrED695r",
        "outputId": "846fdc60-d9b0-4253-89ea-56047fb5a474"
      },
      "execution_count": null,
      "outputs": [
        {
          "output_type": "execute_result",
          "data": {
            "text/plain": [
              "True"
            ]
          },
          "metadata": {},
          "execution_count": 3
        }
      ]
    },
    {
      "cell_type": "code",
      "source": [
        "#example if (is operation)\n",
        "a = [1,2,33]\n",
        "b = a\n",
        "c = a is b\n",
        "print(c)"
      ],
      "metadata": {
        "colab": {
          "base_uri": "https://localhost:8080/"
        },
        "id": "zcm405wR7kUb",
        "outputId": "f0c678d5-075b-4282-9f95-c4ce527f76c2"
      },
      "execution_count": null,
      "outputs": [
        {
          "output_type": "stream",
          "name": "stdout",
          "text": [
            "True\n"
          ]
        }
      ]
    },
    {
      "cell_type": "markdown",
      "source": [
        "5. variable are used to store assign value of data type"
      ],
      "metadata": {
        "id": "zC_gzH909XBn"
      }
    },
    {
      "cell_type": "code",
      "source": [
        "#6.\n",
        "a = 5\n",
        "print(a)\n",
        "b = input(6)\n",
        "print(b)\n",
        "\n"
      ],
      "metadata": {
        "colab": {
          "base_uri": "https://localhost:8080/"
        },
        "id": "QmQzS0hp8yny",
        "outputId": "3bf3f307-fbf8-4cd0-8a57-56b749af9112"
      },
      "execution_count": null,
      "outputs": [
        {
          "output_type": "stream",
          "name": "stdout",
          "text": [
            "5\n",
            "66\n",
            "6\n"
          ]
        }
      ]
    },
    {
      "cell_type": "markdown",
      "source": [
        "8. mutable variable : we can remove,modify,delete the value of variable\n",
        "\n",
        "  immutable variable : we cannot remove , modify the value of variable\n",
        "9. built in data type: int, float,string,complex, bool, list, tuple,set,dicitionary"
      ],
      "metadata": {
        "id": "NdeeNSWG79pR"
      }
    },
    {
      "cell_type": "code",
      "source": [
        "#10\n",
        "a= 5\n",
        "print(type(a))\n",
        "b =  \"string\"\n",
        "print(type(b))"
      ],
      "metadata": {
        "colab": {
          "base_uri": "https://localhost:8080/"
        },
        "id": "gmERn91BAAbP",
        "outputId": "3d8c81a8-98ef-43cc-a579-454609a3d87d"
      },
      "execution_count": null,
      "outputs": [
        {
          "output_type": "stream",
          "name": "stdout",
          "text": [
            "<class 'int'>\n",
            "<class 'str'>\n"
          ]
        }
      ]
    },
    {
      "cell_type": "markdown",
      "source": [
        "11. type casting is used to know the which type of data type  of value that  assign to the variable\n",
        "   syntax :type()\n"
      ],
      "metadata": {
        "id": "JMpQkB7PAb0E"
      }
    },
    {
      "cell_type": "code",
      "source": [
        "#11.example\n",
        "a = 6+7j\n",
        "type(a)"
      ],
      "metadata": {
        "colab": {
          "base_uri": "https://localhost:8080/"
        },
        "id": "3ODixpKSBHyn",
        "outputId": "b1dc195e-fe4f-4dd8-cce8-4941ac8b50d9"
      },
      "execution_count": null,
      "outputs": [
        {
          "output_type": "execute_result",
          "data": {
            "text/plain": [
              "complex"
            ]
          },
          "metadata": {},
          "execution_count": 21
        }
      ]
    },
    {
      "cell_type": "markdown",
      "source": [
        "12. mutable datatypes are list , string here we can modify ,remove,add\n",
        "\n",
        "  immutable datatypes are int,float,complex,tuple we cannot add,remove,modify but in we can del entire tuple not remove items in tuple"
      ],
      "metadata": {
        "id": "LQ6Pf58DBb24"
      }
    },
    {
      "cell_type": "code",
      "source": [
        "#examples\n",
        "list1 =[1,2,3]\n",
        "list1.append(5)\n",
        "print(list1)\n",
        "a= 4\n",
        "print(a)\n",
        "a = 6.7\n",
        "print(a)\n",
        "\n"
      ],
      "metadata": {
        "colab": {
          "base_uri": "https://localhost:8080/"
        },
        "id": "3UgRzxzjCDTb",
        "outputId": "21e2da1a-6df2-4da7-958a-5372a4d7774e"
      },
      "execution_count": null,
      "outputs": [
        {
          "output_type": "stream",
          "name": "stdout",
          "text": [
            "[1, 2, 3, 5]\n",
            "4\n",
            "6.7\n"
          ]
        }
      ]
    },
    {
      "cell_type": "markdown",
      "source": [
        "13. list is built in data type. list are ordered.\n",
        "     \n",
        "  mutable data type which can remove, modify , add\n",
        "  list items are represent in [] and each item in list are seprarted by comma, it can access any time of data type either all items are same data type or mixed data type.\n",
        "\n",
        "  it contain duplicate values\n"
      ],
      "metadata": {
        "id": "VmNHAeOXGnvD"
      }
    },
    {
      "cell_type": "code",
      "source": [
        "list1 = [1,2,3,5]\n",
        "list1 = [ \"name\", 23, True, 6+7j]"
      ],
      "metadata": {
        "id": "SQ8uM4W2HiiO"
      },
      "execution_count": null,
      "outputs": []
    },
    {
      "cell_type": "code",
      "source": [
        "#15\n",
        "list1 = [ 1,2,3,4]\n",
        "list1.append(5) #----> ADD\n",
        "print(list1)\n",
        "list2 = [2,3,4,5,6,7]\n",
        "list2.pop(3)   #----> REMOVE\n",
        "print(list2)\n",
        "list2[4]= 20 #----> update\n",
        "print(list2)\n"
      ],
      "metadata": {
        "colab": {
          "base_uri": "https://localhost:8080/"
        },
        "id": "OV2C9D9OIUMO",
        "outputId": "dbd5ab39-f658-4fe6-b698-42b66410f6d3"
      },
      "execution_count": null,
      "outputs": [
        {
          "output_type": "stream",
          "name": "stdout",
          "text": [
            "[1, 2, 3, 4, 5]\n",
            "[2, 3, 4, 6, 7]\n",
            "[2, 3, 4, 6, 20]\n"
          ]
        }
      ]
    },
    {
      "cell_type": "code",
      "source": [
        "#16.SLICING  can  be done by using index value\n",
        "#example\n",
        "\n",
        "list1 = [ 1,2,3,5,6]\n",
        "a=list1[2:3]\n",
        "print(a)\n",
        "a = list1[::-1]\n",
        "print(a)\n"
      ],
      "metadata": {
        "colab": {
          "base_uri": "https://localhost:8080/"
        },
        "id": "a3GydZPLKoYD",
        "outputId": "b6f43312-625e-43f1-c1f0-6021de02c247"
      },
      "execution_count": null,
      "outputs": [
        {
          "output_type": "stream",
          "name": "stdout",
          "text": [
            "[3]\n",
            "[6, 5, 3, 2, 1]\n"
          ]
        }
      ]
    },
    {
      "cell_type": "markdown",
      "source": [
        "17. append () method is used to add items at the end of the list\n",
        "    \n",
        "  extend () method is used to add another listof items   in  current list\n"
      ],
      "metadata": {
        "id": "GSt_3MoiLPGv"
      }
    },
    {
      "cell_type": "code",
      "source": [
        "#example for extend()\n",
        "list1 = [12 ,13,14]\n",
        "list2 = [1,2,3,4]\n",
        "list1.extend(list2)\n",
        "print(list1)\n"
      ],
      "metadata": {
        "colab": {
          "base_uri": "https://localhost:8080/"
        },
        "id": "jxmihokULf9i",
        "outputId": "c8a016eb-1afb-4062-8208-242b78a4e18f"
      },
      "execution_count": null,
      "outputs": [
        {
          "output_type": "stream",
          "name": "stdout",
          "text": [
            "[12, 13, 14, 1, 2, 3, 4]\n"
          ]
        }
      ]
    },
    {
      "cell_type": "markdown",
      "source": [
        "18.tuple is collection of items(any data type ) it is immutable data type\n",
        " and ordered tuple\n",
        "  it contains duplicate value\n",
        "  tuple represent () it support multiple data type"
      ],
      "metadata": {
        "id": "FQQIo4ngMeL-"
      }
    },
    {
      "cell_type": "code",
      "source": [
        "t = (1,2,3,5,7)\n",
        "print(type(t))\n",
        "print(t)"
      ],
      "metadata": {
        "colab": {
          "base_uri": "https://localhost:8080/"
        },
        "id": "oijF1XAiPCty",
        "outputId": "1dc64ad6-6ebc-4ac1-c874-1a36c23aca40"
      },
      "execution_count": null,
      "outputs": [
        {
          "output_type": "stream",
          "name": "stdout",
          "text": [
            "<class 'tuple'>\n",
            "(1, 2, 3, 5, 7)\n"
          ]
        }
      ]
    },
    {
      "cell_type": "markdown",
      "source": [
        "19.list is mutable\n",
        " tuple is immutable  tuple can only use methods pop(),len()\n",
        " tuple  can convert list to tuple by tuple() function\n",
        " 20. n0 we cannot modify tuple because it immutable\n",
        "  "
      ],
      "metadata": {
        "id": "8gL_PW8GPUc2"
      }
    },
    {
      "cell_type": "code",
      "source": [
        "#21. access tuple\n",
        "t = (1,2,3,4,5)\n",
        "print(t[1])"
      ],
      "metadata": {
        "colab": {
          "base_uri": "https://localhost:8080/"
        },
        "id": "SZJ3GJ4ZUu3t",
        "outputId": "91264f22-7b84-455c-a86c-d3252628a2ce"
      },
      "execution_count": null,
      "outputs": [
        {
          "output_type": "stream",
          "name": "stdout",
          "text": [
            "2\n"
          ]
        }
      ]
    },
    {
      "cell_type": "markdown",
      "source": [
        "22.tring is sequence of character it access either in single or double or triple quotes ( \" \",' ', '''   ''')\n"
      ],
      "metadata": {
        "id": "CJZgiJXnXNrf"
      }
    },
    {
      "cell_type": "code",
      "source": [
        "#create string\n",
        "a = ' abc'\n",
        "b  = \" 123\"\n",
        "c = '''apple'''\n",
        "print(a)\n",
        "type(a)\n",
        "print(b)\n",
        "type(b)\n",
        "print(c)\n",
        "type(c)"
      ],
      "metadata": {
        "colab": {
          "base_uri": "https://localhost:8080/"
        },
        "id": "dvekZgjqX99B",
        "outputId": "6b1a3a76-1a75-43db-c758-214d549a4903"
      },
      "execution_count": null,
      "outputs": [
        {
          "output_type": "stream",
          "name": "stdout",
          "text": [
            " abc\n",
            " 123\n",
            "apple\n"
          ]
        },
        {
          "output_type": "execute_result",
          "data": {
            "text/plain": [
              "str"
            ]
          },
          "metadata": {},
          "execution_count": 72
        }
      ]
    },
    {
      "cell_type": "code",
      "source": [
        "#23. format method: two types of formats 1. dot format 2. f format\n",
        "name = \"savi\"\n",
        "age = 20\n",
        "print('my name is {}.and i am {}. year old'.format(name,age))\n",
        "print(f'my name is {name} and i am  {age } year old')"
      ],
      "metadata": {
        "colab": {
          "base_uri": "https://localhost:8080/"
        },
        "id": "m7-L2LiUY3nw",
        "outputId": "d35cf0b5-d44a-4918-cbe7-f51bf566b0b4"
      },
      "execution_count": null,
      "outputs": [
        {
          "output_type": "stream",
          "name": "stdout",
          "text": [
            "my name is savi.and i am 20. year old\n",
            "my name is savi and i am  20 year old\n"
          ]
        }
      ]
    },
    {
      "cell_type": "code",
      "source": [
        "#24\n",
        "t =\" welcome\"\n",
        "a =t[::-1] #---> reversal by using index\n",
        "print(t)\n",
        "print(a)"
      ],
      "metadata": {
        "colab": {
          "base_uri": "https://localhost:8080/"
        },
        "id": "mW-O38gXdTog",
        "outputId": "164d6d82-f67a-4ec5-ae6d-a3e70d0f62d8"
      },
      "execution_count": null,
      "outputs": [
        {
          "output_type": "stream",
          "name": "stdout",
          "text": [
            " welcome\n",
            "emoclew \n"
          ]
        }
      ]
    }
  ]
}