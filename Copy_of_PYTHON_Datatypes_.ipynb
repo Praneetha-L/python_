{
  "nbformat": 4,
  "nbformat_minor": 0,
  "metadata": {
    "colab": {
      "provenance": [],
      "gpuType": "T4",
      "authorship_tag": "ABX9TyPJLIFco8R2f5A5FRhu9AEr",
      "include_colab_link": true
    },
    "kernelspec": {
      "name": "python3",
      "display_name": "Python 3"
    },
    "language_info": {
      "name": "python"
    },
    "accelerator": "GPU"
  },
  "cells": [
    {
      "cell_type": "markdown",
      "metadata": {
        "id": "view-in-github",
        "colab_type": "text"
      },
      "source": [
        "<a href=\"https://colab.research.google.com/github/Praneetha-L/python_/blob/main/Copy_of_PYTHON_Datatypes_.ipynb\" target=\"_parent\"><img src=\"https://colab.research.google.com/assets/colab-badge.svg\" alt=\"Open In Colab\"/></a>"
      ]
    },
    {
      "cell_type": "markdown",
      "source": [
        " PYTHON DATATYPE\n",
        "     python datatypes are primitive data type (basic) and non-primitive data type(advance) to know which type operation to be performed on particular data.\n",
        "     The buit-in datatypes:\n",
        "1.  Basic\n",
        "    *  int\n",
        "    *  float\n",
        "    *  boolean\n",
        "    *  complex\n",
        "    *  char\n",
        "2.  Advance\n",
        "   *  list\n",
        "   *  string\n",
        "   *  tuple\n",
        "   *  dictionary\n",
        "   *  set\n",
        "\n",
        "\n",
        "\n",
        "\n",
        "    "
      ],
      "metadata": {
        "id": "qmGtarbMqv9o"
      }
    },
    {
      "cell_type": "code",
      "source": [
        "# INT DATA TYPE\n",
        "#INT represents integers.It contains positive and negative whole numbers expect fractions and decimals\n",
        "#for examples\n",
        "\n",
        "a = 5\n",
        "print(a)\n",
        "print(type(a))             #type() function is to know which class of data type\n"
      ],
      "metadata": {
        "colab": {
          "base_uri": "https://localhost:8080/"
        },
        "id": "V8k7jATL0i12",
        "outputId": "a7a55b26-0023-4807-f988-a6b6bcde2f50"
      },
      "execution_count": null,
      "outputs": [
        {
          "output_type": "stream",
          "name": "stdout",
          "text": [
            "5\n",
            "<class 'int'>\n"
          ]
        }
      ]
    },
    {
      "cell_type": "code",
      "source": [
        "b = -5\n",
        "print(b)\n",
        "print(type(b))"
      ],
      "metadata": {
        "colab": {
          "base_uri": "https://localhost:8080/"
        },
        "id": "JC1E44iW3Ri-",
        "outputId": "15243b68-dc53-4349-f230-00e10760136f"
      },
      "execution_count": null,
      "outputs": [
        {
          "output_type": "stream",
          "name": "stdout",
          "text": [
            "-5\n",
            "<class 'int'>\n"
          ]
        }
      ]
    },
    {
      "cell_type": "code",
      "source": [
        "c = 96\n",
        "print(type(c))\n",
        "print(c)"
      ],
      "metadata": {
        "colab": {
          "base_uri": "https://localhost:8080/"
        },
        "id": "koBtr6yr3cFs",
        "outputId": "cd4a7f4d-45f0-48f2-cd09-1fa3894246bf"
      },
      "execution_count": null,
      "outputs": [
        {
          "output_type": "stream",
          "name": "stdout",
          "text": [
            "<class 'int'>\n",
            "96\n"
          ]
        }
      ]
    },
    {
      "cell_type": "code",
      "source": [
        "d = -56\n",
        "print(type(d))\n",
        "print(d)"
      ],
      "metadata": {
        "colab": {
          "base_uri": "https://localhost:8080/"
        },
        "id": "KBvKhsD04lsu",
        "outputId": "c8d80a91-3903-45cf-9724-cf465a2715c0"
      },
      "execution_count": null,
      "outputs": [
        {
          "output_type": "stream",
          "name": "stdout",
          "text": [
            "<class 'int'>\n",
            "-56\n"
          ]
        }
      ]
    },
    {
      "cell_type": "code",
      "source": [
        "#5\n",
        "e= 78\n",
        "print(e)\n",
        "print(type(e))\n",
        "#6\n",
        "f = 0\n",
        "print(f)\n",
        "print(type(f))\n",
        "#7\n",
        "g= -1234556\n",
        "print(g)\n",
        "print(type(g))\n",
        "#8\n",
        "h= 11234567890\n",
        "print(h)\n",
        "print(type(h))\n",
        "#9\n",
        "i=-1123456789\n",
        "print(i)\n",
        "print(type(i))\n",
        "#10\n",
        "j = 90\n",
        "print(j)\n",
        "print(type(j))\n"
      ],
      "metadata": {
        "colab": {
          "base_uri": "https://localhost:8080/"
        },
        "id": "P4wjlHHq47mf",
        "outputId": "91023314-bc81-476c-9a2a-14462180bc58"
      },
      "execution_count": null,
      "outputs": [
        {
          "output_type": "stream",
          "name": "stdout",
          "text": [
            "78\n",
            "<class 'int'>\n",
            "0\n",
            "<class 'int'>\n",
            "-1234556\n",
            "<class 'int'>\n",
            "11234567890\n",
            "<class 'int'>\n",
            "-1123456789\n",
            "<class 'int'>\n",
            "90\n",
            "<class 'int'>\n"
          ]
        }
      ]
    },
    {
      "cell_type": "code",
      "source": [
        "# FLOAT DATA TYPE\n",
        "# FLOAT represents real number with floating point number(decimal numbers) is either positive or negtive number is consider\n",
        "#for examples\n",
        "#1.\n",
        "g= 8.12\n",
        "print(g)\n",
        "print(type(g))\n",
        "#2\n",
        "h= -4.12\n",
        "print(h)\n",
        "print(type(h))\n",
        "#3\n",
        "d= 0.23\n",
        "print(d)\n",
        "print(type(d))\n",
        "#4\n",
        "s= 67.123\n",
        "print(s)\n",
        "print(type(s))\n",
        "#5\n",
        "a = -345.567\n",
        "print(a)\n",
        "print(type(a))\n",
        "#6\n",
        "b = -67890.223\n",
        "print(b)\n",
        "print(type(b))\n",
        "#7\n",
        "c= 34.200000\n",
        "print(c)\n",
        "print(type(c))\n",
        "#8\n",
        "n= -6.13\n",
        "print(n)\n",
        "print(type(n))\n",
        "#9\n",
        "m=-9.1\n",
        "print(m)\n",
        "print(type(m))\n",
        "#10\n",
        "l= 67.1\n",
        "print(l)\n",
        "print(type(l))\n"
      ],
      "metadata": {
        "colab": {
          "base_uri": "https://localhost:8080/"
        },
        "id": "DpNuoZwi6kjy",
        "outputId": "a4466964-5390-47b2-f9d9-b04e60c5aaed"
      },
      "execution_count": null,
      "outputs": [
        {
          "output_type": "stream",
          "name": "stdout",
          "text": [
            "8.12\n",
            "<class 'float'>\n",
            "-4.12\n",
            "<class 'float'>\n",
            "0.23\n",
            "<class 'float'>\n",
            "67.123\n",
            "<class 'float'>\n",
            "-345.567\n",
            "<class 'float'>\n",
            "-67890.223\n",
            "<class 'float'>\n",
            "34.2\n",
            "<class 'float'>\n",
            "-6.13\n",
            "<class 'float'>\n",
            "-9.1\n",
            "<class 'float'>\n",
            "67.1\n",
            "<class 'float'>\n"
          ]
        }
      ]
    },
    {
      "cell_type": "code",
      "source": [
        "# BOOLEAN DATATYPE\n",
        "# boolean value is either true or false\n",
        "#For examples\n",
        "#1\n",
        "x = 75>90\n",
        "print(x)\n",
        "print(type(x))\n",
        "#2\n",
        "b = 78>= 89\n",
        "print(b)\n",
        "print(type(b))\n",
        "#3\n",
        "c= 56> 90\n",
        "print(c)\n",
        "print(type(c))\n",
        "#4\n",
        "d = 89<=65\n",
        "print(d)\n",
        "print(type(d))\n",
        "#5\n",
        "f= 34>=90\n",
        "print(f)\n",
        "print(type(f))\n",
        "#6\n",
        "b= 34>12\n",
        "print(b)\n",
        "print(type(b))\n",
        "#7\n",
        "n= 89>56\n",
        "print(n)\n",
        "print(type(n))\n",
        "#8\n",
        "m= -12>-23\n",
        "print(m)\n",
        "print(type(m))\n",
        "#9\n",
        "k= 0>-12\n",
        "print(k)\n",
        "print(type(k))\n",
        "#10\n",
        "l= 78>=56\n",
        "print(l)\n",
        "print(type(l))"
      ],
      "metadata": {
        "colab": {
          "base_uri": "https://localhost:8080/"
        },
        "id": "C7ReByj3BZtK",
        "outputId": "bb0e89c4-3d47-4d2a-cb4d-007b80c12762"
      },
      "execution_count": null,
      "outputs": [
        {
          "output_type": "stream",
          "name": "stdout",
          "text": [
            "False\n",
            "<class 'bool'>\n",
            "False\n",
            "<class 'bool'>\n",
            "False\n",
            "<class 'bool'>\n",
            "False\n",
            "<class 'bool'>\n",
            "False\n",
            "<class 'bool'>\n",
            "True\n",
            "<class 'bool'>\n",
            "True\n",
            "<class 'bool'>\n",
            "True\n",
            "<class 'bool'>\n",
            "True\n",
            "<class 'bool'>\n",
            "True\n",
            "<class 'bool'>\n"
          ]
        }
      ]
    },
    {
      "cell_type": "code",
      "source": [
        "# COMPLEX DATA TYPE\n",
        "#A Complex number is the number that consists of real and imaginary numberit represent in form of a+bj , a is real number and bis imaginary number\n",
        "# j is imaginary unit.In Python we have complex() buit in function that creates complex numbers\n",
        "#FOR EXAMPLES\n",
        "#1\n",
        "X = 4+7J\n",
        "print(X)\n",
        "print(type(X))\n",
        "#2\n",
        "c= complex(3,5)     #here by using complex() function we can create complex number\n",
        "print(c)\n",
        "print(type(c))\n",
        "#3\n",
        "v= -2+8j\n",
        "print(v)\n",
        "print(type(v))\n",
        "#4\n",
        "n= 0+6j\n",
        "print(n)\n",
        "print(type(n))\n",
        "#5\n",
        "m = 4.5+5.6j\n",
        "print(m)\n",
        "print(type(m))\n",
        "#6\n",
        "k= -2.4+0j\n",
        "print(k)\n",
        "print(type(k))\n",
        "#7\n",
        "h= 0+5.6j\n",
        "print(h)\n",
        "print(type(h))\n",
        "#8\n",
        "p= 5+9.8j\n",
        "print(p)\n",
        "print(type(p))\n",
        "#9\n",
        "d= complex(8,9)\n",
        "print(d)\n",
        "print(type(d))\n",
        "#10\n",
        "r= complex(8.8,9.8)\n",
        "print(r)\n",
        "print(type(r))\n"
      ],
      "metadata": {
        "colab": {
          "base_uri": "https://localhost:8080/"
        },
        "id": "SNCKADb4Ggv7",
        "outputId": "2f48a25f-9b47-44a4-ebab-f23a505df68a"
      },
      "execution_count": null,
      "outputs": [
        {
          "output_type": "stream",
          "name": "stdout",
          "text": [
            "(4+7j)\n",
            "<class 'complex'>\n",
            "(3+5j)\n",
            "<class 'complex'>\n",
            "(-2+8j)\n",
            "<class 'complex'>\n",
            "6j\n",
            "<class 'complex'>\n",
            "(4.5+5.6j)\n",
            "<class 'complex'>\n",
            "(-2.4+0j)\n",
            "<class 'complex'>\n",
            "5.6j\n",
            "<class 'complex'>\n",
            "(5+9.8j)\n",
            "<class 'complex'>\n",
            "(8+9j)\n",
            "<class 'complex'>\n",
            "(8.8+9.8j)\n",
            "<class 'complex'>\n"
          ]
        }
      ]
    },
    {
      "cell_type": "code",
      "source": [
        "#CHAR DATA TYPE\n",
        "# in python there is no character data type instead python uses string\n",
        "# A string in python sequence of single characters enclosed ineither single quotes or double quotes\n",
        "# FOR EXAMPLE\n",
        "#1\n",
        "u = \"b\"\n",
        "print(u)\n",
        "print(type(u))\n",
        "#2\n",
        "x=\"NAME\"\n",
        "print(x)\n",
        "print(type(x))\n",
        "#3\n",
        "b = 'place'\n",
        "print(b)\n",
        "print(type(b))\n",
        "#4\n",
        "c='k'\n",
        "print(c)\n",
        "print(type(c))"
      ],
      "metadata": {
        "colab": {
          "base_uri": "https://localhost:8080/"
        },
        "id": "k0kMdWnKMWvf",
        "outputId": "f6d417bb-d067-45a8-a9b2-14801af60540"
      },
      "execution_count": null,
      "outputs": [
        {
          "output_type": "stream",
          "name": "stdout",
          "text": [
            "b\n",
            "<class 'str'>\n",
            "NAME\n",
            "<class 'str'>\n",
            "place\n",
            "<class 'str'>\n",
            "k\n",
            "<class 'str'>\n"
          ]
        }
      ]
    }
  ]
}